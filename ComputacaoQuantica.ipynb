{
  "nbformat": 4,
  "nbformat_minor": 0,
  "metadata": {
    "colab": {
      "provenance": [],
      "authorship_tag": "ABX9TyO/OpcpGkb5UQjP9yZgAP3h"
    },
    "kernelspec": {
      "name": "python3",
      "display_name": "Python 3"
    },
    "language_info": {
      "name": "python"
    }
  },
  "cells": [
    {
      "cell_type": "code",
      "source": [
        "!pip install qiskit"
      ],
      "metadata": {
        "id": "bQEYtj6GMGAR"
      },
      "execution_count": null,
      "outputs": []
    },
    {
      "cell_type": "code",
      "source": [
        "!pip install qiskit-aer"
      ],
      "metadata": {
        "id": "L0h_dIamNSmP"
      },
      "execution_count": null,
      "outputs": []
    },
    {
      "cell_type": "code",
      "source": [
        "!pip install qiskit-ibm-runtime"
      ],
      "metadata": {
        "id": "cIMv0Z6-aXaJ"
      },
      "execution_count": null,
      "outputs": []
    },
    {
      "cell_type": "code",
      "source": [
        "!pip install pylatexenc"
      ],
      "metadata": {
        "id": "hDlYITGxY7Nq"
      },
      "execution_count": null,
      "outputs": []
    },
    {
      "cell_type": "code",
      "source": [
        "# Importar as bibliotecas necessárias\n",
        "from qiskit import QuantumCircuit\n",
        "from qiskit_aer.primitives import Sampler\n",
        "from qiskit.visualization import plot_histogram\n",
        "from qiskit.quantum_info import SparsePauliOp\n",
        "from qiskit.transpiler import generate_preset_pass_manager\n",
        "from qiskit_ibm_runtime import EstimatorV2 as Estimator"
      ],
      "metadata": {
        "id": "-oNQdySQL51R"
      },
      "execution_count": 1,
      "outputs": []
    },
    {
      "cell_type": "code",
      "source": [
        "\n",
        "qc = QuantumCircuit(2)\n",
        "\n",
        "qc.h(0)\n",
        "\n",
        "qc.cx(0, 1)\n",
        "\n",
        "qc.draw(\"mpl\")"
      ],
      "metadata": {
        "colab": {
          "base_uri": "https://localhost:8080/",
          "height": 191
        },
        "id": "KqCjN9yebVj9",
        "outputId": "82975512-0292-45aa-c090-9f31841993d5"
      },
      "execution_count": 11,
      "outputs": [
        {
          "output_type": "execute_result",
          "data": {
            "text/plain": [
              "<Figure size 287.294x200.667 with 1 Axes>"
            ],
            "image/png": "[encoded data removed]"
          },
          "metadata": {},
          "execution_count": 11
        }
      ]
    },
    {
      "cell_type": "code",
      "execution_count": 9,
      "metadata": {
        "colab": {
          "base_uri": "https://localhost:8080/",
          "height": 522
        },
        "id": "e4D68PejLsMF",
        "outputId": "cabf793a-9b23-4fdf-e8f8-899ee2700ea9"
      },
      "outputs": [
        {
          "output_type": "stream",
          "name": "stdout",
          "text": [
            "\n",
            "Resultados da medição: {1: 541, 0: 483}\n"
          ]
        },
        {
          "output_type": "execute_result",
          "data": {
            "text/plain": [
              "<Figure size 640x480 with 1 Axes>"
            ],
            "image/png": "[encoded data removed]"
          },
          "metadata": {},
          "execution_count": 9
        }
      ],
      "source": [
        "# 1. Criar um circuito com 1 qubit e 1 bit clássico para a medição\n",
        "# QuantumCircuit(num_qubits, num_classical_bits)\n",
        "# -> cria um circuito com 1 qubit (índice 0) e 1 bit clássico (índice 0).\n",
        "# O bit clássico serve para armazenar o resultado da medição.\n",
        "qc = QuantumCircuit(1, 1)\n",
        "\n",
        "\n",
        "# 2. Aplicar a porta de Hadamard (H) para criar superposição\n",
        "# Aplica a porta H no qubit 0.\n",
        "# A porta H coloca |0> em uma superposição (≈ 50% |0>, 50% |1>).\n",
        "qc.h(0)\n",
        "\n",
        "\n",
        "# 3. Medir o qubit 0 e armazenar o resultado no bit clássico 0\n",
        "# Mede o qubit 0 e grava o resultado no bit clássico 0.\n",
        "# A medição \"colapsa\" a superposição em um dos resultados clássicos (0 ou 1).\n",
        "qc.measure(0, 0)\n",
        "\n",
        "\n",
        "# 4. Configurar o Sampler (simulador quântico)\n",
        "# Instancia o primitivo Sampler (qiskit_aer.primitives.Sampler).\n",
        "# O Sampler é a interface recomendada para simular amostras/medições.\n",
        "sampler = Sampler()\n",
        "\n",
        "\n",
        "# 5. Executar o circuito 1024 vezes\n",
        "# .run recebe uma lista de circuitos ([qc]) — possibilita rodar vários de uma vez.\n",
        "# shots=1024 indica quantas amostras/execuções queremos (a \"estatística\").\n",
        "job = sampler.run([qc], shots=1024)\n",
        "\n",
        "# Aguarda/obtém o resultado da execução e retorna um SamplerResult (objeto).\n",
        "# Este objeto contém distribuições de probabilidade e outros metadados.\n",
        "result = job.result()\n",
        "\n",
        "# 6. Obter e imprimir os resultados\n",
        "# Acessa a primeira distribuição de probabilidade retornada.\n",
        "# quasi_dists geralmente é uma lista/array onde cada entrada é um dict\n",
        "# mapeando strings de estados clássicos (ex: '0','1','00') para probabilidades.\n",
        "probs = result.quasi_dists[0]\n",
        "\n",
        "\n",
        "# Converte probabilidades em \"contagens simuladas\" multiplicando por shots.\n",
        "# Usa int(...) — ou seja, faz truncamento (pode perder/ganhar 1 em soma total).\n",
        "shots = 1024\n",
        "counts = {state: int(p * shots) for state, p in probs.items()}\n",
        "\n",
        "# Mostra no console o dicionário de contagens aproximadas\n",
        "print(\"\\nResultados da medição:\", counts)\n",
        "\n",
        "# 7. Visualizar o resultado em um histograma\n",
        "# Usa o utilitário de visualização do Qiskit para plotar um histograma\n",
        "# a partir do dicionário de contagens (ou probabilidades).\n",
        "plot_histogram(counts)\n"
      ]
    },
    {
      "cell_type": "code",
      "source": [
        "qc.draw(output=\"mpl\")"
      ],
      "metadata": {
        "colab": {
          "base_uri": "https://localhost:8080/",
          "height": 191
        },
        "id": "yqHGO5EJbPT7",
        "outputId": "001398bb-9df8-4869-b1c2-af7415a83d20"
      },
      "execution_count": 10,
      "outputs": [
        {
          "output_type": "execute_result",
          "data": {
            "text/plain": [
              "<Figure size 269.064x200.667 with 1 Axes>"
            ],
            "image/png": "[encoded data removed]"
          },
          "metadata": {},
          "execution_count": 10
        }
      ]
    }
  ]
}